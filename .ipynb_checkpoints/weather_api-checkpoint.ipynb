{
 "cells": [
  {
   "cell_type": "code",
   "execution_count": null,
   "metadata": {},
   "outputs": [],
   "source": [
    "# Dependencies\n",
    "import csv\n",
    "import os\n",
    "import matplotlib.pyplot as plt\n",
    "import requests\n",
    "import json\n",
    "import pandas as pd\n",
    "from config import api_key"
   ]
  },
  {
   "cell_type": "code",
   "execution_count": null,
   "metadata": {},
   "outputs": [],
   "source": [
    "# Create basic URL, set units to metric\n",
    "url = \"http://api.openweathermap.org/data/2.5/weather?\"\n",
    "units = \"imperial\"\n",
    "country = \",us\"\n",
    "\n",
    "# Build the query URL\n",
    "query_url = f\"{url}appid={api_key}&units={units}&zip=\"\n",
    "query_url"
   ]
  },
  {
   "cell_type": "code",
   "execution_count": null,
   "metadata": {},
   "outputs": [],
   "source": [
    "#pull zips from csv\n",
    "zipfromCSV = pd.read_csv('Resources/income_by_zipcode.csv')\n",
    "#list(zipfromCSV)\n",
    "#zipfromCSV\n",
    "zipSeries=zipfromCSV[zipfromCSV['Number of returns']>=25000]['ZIPCODE']\n",
    "#len(zipSeries)\n",
    "zipSeries.values.tolist()\n",
    "# use ALL zip codes\n",
    "#zipSeries = zipfromCSV()\n",
    "#zipSeries.where(zipfromCSV['Number of returns']>25000)\n",
    "# IF YOU WANT TO USE A SAMPLE INSTEAD OF THE FULL LIST, UNCOMMENT LINE 8\n",
    "#zipSeries = zipSeries.sample(n=10)"
   ]
  },
  {
   "cell_type": "code",
   "execution_count": null,
   "metadata": {},
   "outputs": [],
   "source": [
    "# set up lists to hold reponse info\n",
    "#zipSeries.values.tolist()\n",
    "lat = []\n",
    "temp = [] #fahrenheit\n",
    "humidity = [] #as a percentage\n",
    "cloudiness = [] #as a percentage\n",
    "windSpeed = [] #mph\n",
    "country_code = ',us'\n",
    "request_counter = 1\n",
    "\n",
    "# Loop through the list of cities and perform a request for data on each\n",
    "for zip in zipSeries:\n",
    "    print(zip)\n",
    "    try:\n",
    "        print(query_url + str(zip) + country_code)\n",
    "        response = requests.get(query_url + str(zip) + country_code).json()\n",
    "        lat.append(response['coord']['lat'])\n",
    "        temp.append(response['main']['temp'])\n",
    "        humidity.append(response['main']['humidity'])\n",
    "        cloudiness.append(response['clouds']['all']/100)\n",
    "        print(f\"Request #{request_counter} - getting information for {zip}\")\n",
    "        request_counter = request_counter + 1\n",
    "\n",
    "    except:\n",
    "        print(\"One of the zip codes wasn't in the Open Weather Map database\")\n",
    "\n",
    "print(f\"There are \" + str(len(lat)) + \" values in the dataset\")\n",
    "print(f\"The latitude information received is: {lat}\")\n",
    "print(f\"The temperature information received is: {temp}\")\n",
    "print(f\"The humidity information received is: {humidity}\")\n",
    "print(f\"The cloudiness information received is: {cloudiness}\")"
   ]
  },
  {
   "cell_type": "code",
   "execution_count": null,
   "metadata": {},
   "outputs": [],
   "source": [
    "# create a data frame from cities, lat, and temp\n",
    "weather_dict = {\n",
    "    \"zip\": zip,\n",
    "    \"lat\": lat,\n",
    "    \"temp\": temp,\n",
    "    \"humidity\": humidity,\n",
    "    \"cloudiness\": cloudiness\n",
    "#     \"windSpeed\": windSpeed\n",
    "}\n",
    "\n",
    "weather_data = pd.DataFrame(weather_dict)\n",
    "weather_data.to_csv('weather_data_by_zip.csv')\n",
    "weather_data.head()\n"
   ]
  },
  {
   "cell_type": "code",
   "execution_count": null,
   "metadata": {},
   "outputs": [],
   "source": []
  },
  {
   "cell_type": "code",
   "execution_count": null,
   "metadata": {},
   "outputs": [],
   "source": []
  }
 ],
 "metadata": {
  "kernelspec": {
   "display_name": "Python 3",
   "language": "python",
   "name": "python3"
  },
  "language_info": {
   "codemirror_mode": {
    "name": "ipython",
    "version": 3
   },
   "file_extension": ".py",
   "mimetype": "text/x-python",
   "name": "python",
   "nbconvert_exporter": "python",
   "pygments_lexer": "ipython3",
   "version": "3.7.0"
  }
 },
 "nbformat": 4,
 "nbformat_minor": 2
}
