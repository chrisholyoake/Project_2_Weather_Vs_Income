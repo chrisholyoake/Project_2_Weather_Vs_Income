{
 "cells": [
  {
   "cell_type": "code",
   "execution_count": 1,
   "metadata": {},
   "outputs": [],
   "source": [
    "# Dependencies\n",
    "import csv\n",
    "import os\n",
    "import matplotlib.pyplot as plt\n",
    "import requests\n",
    "import json\n",
    "import pandas as pd\n",
    "from config import api_key"
   ]
  },
  {
   "cell_type": "code",
   "execution_count": 2,
   "metadata": {},
   "outputs": [
    {
     "data": {
      "text/plain": [
       "'http://api.openweathermap.org/data/2.5/weather?appid=3866f5856bec34ecc13aca48299f973e&units=imperial&zip='"
      ]
     },
     "execution_count": 2,
     "metadata": {},
     "output_type": "execute_result"
    }
   ],
   "source": [
    "# Create basic URL, set units to metric\n",
    "url = \"http://api.openweathermap.org/data/2.5/weather?\"\n",
    "units = \"imperial\"\n",
    "country = \",us\"\n",
    "\n",
    "# Build the query URL\n",
    "query_url = f\"{url}appid={api_key}&units={units}&zip=\"\n",
    "query_url"
   ]
  },
  {
   "cell_type": "code",
   "execution_count": 13,
   "metadata": {},
   "outputs": [
    {
     "name": "stdout",
     "output_type": "stream",
     "text": [
      "http://api.openweathermap.org/data/2.5/weather?appid=3866f5856bec34ecc13aca48299f973e&units=imperial&zip=94551,us\n",
      "Getting information for 94551\n",
      "http://api.openweathermap.org/data/2.5/weather?appid=3866f5856bec34ecc13aca48299f973e&units=imperial&zip=91010,us\n",
      "Getting information for 91010\n",
      "http://api.openweathermap.org/data/2.5/weather?appid=3866f5856bec34ecc13aca48299f973e&units=imperial&zip=89506,us\n",
      "Getting information for 89506\n",
      "http://api.openweathermap.org/data/2.5/weather?appid=3866f5856bec34ecc13aca48299f973e&units=imperial&zip=33909,us\n",
      "Getting information for 33909\n",
      "http://api.openweathermap.org/data/2.5/weather?appid=3866f5856bec34ecc13aca48299f973e&units=imperial&zip=37013,us\n",
      "Getting information for 37013\n",
      "http://api.openweathermap.org/data/2.5/weather?appid=3866f5856bec34ecc13aca48299f973e&units=imperial&zip=33967,us\n",
      "Getting information for 33967\n",
      "http://api.openweathermap.org/data/2.5/weather?appid=3866f5856bec34ecc13aca48299f973e&units=imperial&zip=95032,us\n",
      "Getting information for 95032\n",
      "http://api.openweathermap.org/data/2.5/weather?appid=3866f5856bec34ecc13aca48299f973e&units=imperial&zip=93065,us\n",
      "Getting information for 93065\n",
      "http://api.openweathermap.org/data/2.5/weather?appid=3866f5856bec34ecc13aca48299f973e&units=imperial&zip=89104,us\n",
      "Getting information for 89104\n",
      "http://api.openweathermap.org/data/2.5/weather?appid=3866f5856bec34ecc13aca48299f973e&units=imperial&zip=93662,us\n",
      "Getting information for 93662\n",
      "There are 10 values in the dataset\n",
      "The latitude information received is: [37.7, 34.14, 39.63, 26.71, 36.06, 26.47, 37.23, 34.27, 36.13, 36.57]\n",
      "The temperature information received is: [48.33, 42.3, 23.86, 71.87, 44.2, 71.92, 49.64, 46.2, 36.68, 42.3]\n",
      "The humidity information received is: [45, 93, 73, 94, 93, 88, 34, 70, 100, 100]\n",
      "The cloudiness information received is: [0.01, 0.01, 0.9, 0.0, 0.9, 0.75, 0.01, 0.2, 0.9, 0.01]\n"
     ]
    }
   ],
   "source": [
    "#pull zips from csv\n",
    "zipfromCSV = pd.read_csv('Resources/income_by_zipcode.csv')\n",
    "# use zips\n",
    "zipSeries = zipfromCSV['ZIPCODE']\n",
    "# # pull a random sample of zipcodes\n",
    "zips = zipSeries.sample(n=10)\n",
    "zips.values.tolist()\n",
    "    \n",
    "# set up lists to hold reponse info\n",
    "lat = []\n",
    "temp = [] #fahrenheit\n",
    "humidity = [] #as a percentage\n",
    "cloudiness = [] #as a percentage\n",
    "windSpeed = [] #mph\n",
    "country_code = ',us'\n",
    "\n",
    "# Loop through the list of cities and perform a request for data on each\n",
    "for zip in zips:\n",
    "    try:\n",
    "        print(query_url + str(zip) + country_code)\n",
    "        response = requests.get(query_url + str(zip) + country_code).json()\n",
    "        lat.append(response['coord']['lat'])\n",
    "        temp.append(response['main']['temp'])\n",
    "        humidity.append(response['main']['humidity'])\n",
    "        cloudiness.append(response['clouds']['all']/100)\n",
    "        print(f\"Getting information for {zip}\")\n",
    "\n",
    "    except:\n",
    "        print(\"One of the zip codes wasn't in the Open Weather Map database\")\n",
    "\n",
    "print(f\"There are \" + str(len(lat)) + \" values in the dataset\")\n",
    "print(f\"The latitude information received is: {lat}\")\n",
    "print(f\"The temperature information received is: {temp}\")\n",
    "print(f\"The humidity information received is: {humidity}\")\n",
    "print(f\"The cloudiness information received is: {cloudiness}\")"
   ]
  },
  {
   "cell_type": "code",
   "execution_count": 14,
   "metadata": {},
   "outputs": [
    {
     "data": {
      "text/html": [
       "<div>\n",
       "<style scoped>\n",
       "    .dataframe tbody tr th:only-of-type {\n",
       "        vertical-align: middle;\n",
       "    }\n",
       "\n",
       "    .dataframe tbody tr th {\n",
       "        vertical-align: top;\n",
       "    }\n",
       "\n",
       "    .dataframe thead th {\n",
       "        text-align: right;\n",
       "    }\n",
       "</style>\n",
       "<table border=\"1\" class=\"dataframe\">\n",
       "  <thead>\n",
       "    <tr style=\"text-align: right;\">\n",
       "      <th></th>\n",
       "      <th>zip</th>\n",
       "      <th>lat</th>\n",
       "      <th>temp</th>\n",
       "      <th>humidity</th>\n",
       "      <th>cloudiness</th>\n",
       "    </tr>\n",
       "  </thead>\n",
       "  <tbody>\n",
       "    <tr>\n",
       "      <th>0</th>\n",
       "      <td>93662</td>\n",
       "      <td>37.70</td>\n",
       "      <td>48.33</td>\n",
       "      <td>45</td>\n",
       "      <td>0.01</td>\n",
       "    </tr>\n",
       "    <tr>\n",
       "      <th>1</th>\n",
       "      <td>93662</td>\n",
       "      <td>34.14</td>\n",
       "      <td>42.30</td>\n",
       "      <td>93</td>\n",
       "      <td>0.01</td>\n",
       "    </tr>\n",
       "    <tr>\n",
       "      <th>2</th>\n",
       "      <td>93662</td>\n",
       "      <td>39.63</td>\n",
       "      <td>23.86</td>\n",
       "      <td>73</td>\n",
       "      <td>0.90</td>\n",
       "    </tr>\n",
       "    <tr>\n",
       "      <th>3</th>\n",
       "      <td>93662</td>\n",
       "      <td>26.71</td>\n",
       "      <td>71.87</td>\n",
       "      <td>94</td>\n",
       "      <td>0.00</td>\n",
       "    </tr>\n",
       "    <tr>\n",
       "      <th>4</th>\n",
       "      <td>93662</td>\n",
       "      <td>36.06</td>\n",
       "      <td>44.20</td>\n",
       "      <td>93</td>\n",
       "      <td>0.90</td>\n",
       "    </tr>\n",
       "  </tbody>\n",
       "</table>\n",
       "</div>"
      ],
      "text/plain": [
       "     zip    lat   temp  humidity  cloudiness\n",
       "0  93662  37.70  48.33        45        0.01\n",
       "1  93662  34.14  42.30        93        0.01\n",
       "2  93662  39.63  23.86        73        0.90\n",
       "3  93662  26.71  71.87        94        0.00\n",
       "4  93662  36.06  44.20        93        0.90"
      ]
     },
     "execution_count": 14,
     "metadata": {},
     "output_type": "execute_result"
    }
   ],
   "source": [
    "# create a data frame from cities, lat, and temp\n",
    "weather_dict = {\n",
    "    \"zip\": zip,\n",
    "    \"lat\": lat,\n",
    "    \"temp\": temp,\n",
    "    \"humidity\": humidity,\n",
    "    \"cloudiness\": cloudiness\n",
    "#     \"windSpeed\": windSpeed\n",
    "}\n",
    "\n",
    "weather_data = pd.DataFrame(weather_dict)\n",
    "weather_data.to_csv('weather_data_by_zip.csv')\n",
    "weather_data.head()\n"
   ]
  },
  {
   "cell_type": "code",
   "execution_count": null,
   "metadata": {},
   "outputs": [],
   "source": []
  },
  {
   "cell_type": "code",
   "execution_count": null,
   "metadata": {},
   "outputs": [],
   "source": []
  }
 ],
 "metadata": {
  "kernelspec": {
   "display_name": "Python 3",
   "language": "python",
   "name": "python3"
  },
  "language_info": {
   "codemirror_mode": {
    "name": "ipython",
    "version": 3
   },
   "file_extension": ".py",
   "mimetype": "text/x-python",
   "name": "python",
   "nbconvert_exporter": "python",
   "pygments_lexer": "ipython3",
   "version": "3.6.8"
  }
 },
 "nbformat": 4,
 "nbformat_minor": 2
}
