{
 "cells": [
  {
   "cell_type": "code",
   "execution_count": 1,
   "metadata": {},
   "outputs": [],
   "source": [
    "# Dependencies\n",
    "import csv\n",
    "import os\n",
    "import matplotlib.pyplot as plt\n",
    "import requests\n",
    "import json\n",
    "import pandas as pd\n",
    "from config import api_key"
   ]
  },
  {
   "cell_type": "code",
   "execution_count": 2,
   "metadata": {},
   "outputs": [
    {
     "data": {
      "text/plain": [
       "'http://api.openweathermap.org/data/2.5/weather?appid=3866f5856bec34ecc13aca48299f973e&units=imperial&zip='"
      ]
     },
     "execution_count": 2,
     "metadata": {},
     "output_type": "execute_result"
    }
   ],
   "source": [
    "# Create basic URL, set units to metric\n",
    "url = \"http://api.openweathermap.org/data/2.5/weather?\"\n",
    "units = \"imperial\"\n",
    "country = \",us\"\n",
    "\n",
    "# Build the query URL\n",
    "query_url = f\"{url}appid={api_key}&units={units}&zip=\"\n",
    "query_url"
   ]
  },
  {
   "cell_type": "code",
   "execution_count": 3,
   "metadata": {},
   "outputs": [
    {
     "name": "stdout",
     "output_type": "stream",
     "text": [
      "http://api.openweathermap.org/data/2.5/weather?appid=3866f5856bec34ecc13aca48299f973e&units=imperial&zip=28547,us\n",
      "Request #1 - getting information for 28547\n",
      "http://api.openweathermap.org/data/2.5/weather?appid=3866f5856bec34ecc13aca48299f973e&units=imperial&zip=49284,us\n",
      "Request #2 - getting information for 49284\n",
      "http://api.openweathermap.org/data/2.5/weather?appid=3866f5856bec34ecc13aca48299f973e&units=imperial&zip=28134,us\n",
      "Request #3 - getting information for 28134\n",
      "http://api.openweathermap.org/data/2.5/weather?appid=3866f5856bec34ecc13aca48299f973e&units=imperial&zip=50275,us\n",
      "Request #4 - getting information for 50275\n",
      "http://api.openweathermap.org/data/2.5/weather?appid=3866f5856bec34ecc13aca48299f973e&units=imperial&zip=82435,us\n",
      "Request #5 - getting information for 82435\n",
      "http://api.openweathermap.org/data/2.5/weather?appid=3866f5856bec34ecc13aca48299f973e&units=imperial&zip=73566,us\n",
      "Request #6 - getting information for 73566\n",
      "http://api.openweathermap.org/data/2.5/weather?appid=3866f5856bec34ecc13aca48299f973e&units=imperial&zip=80206,us\n",
      "Request #7 - getting information for 80206\n",
      "http://api.openweathermap.org/data/2.5/weather?appid=3866f5856bec34ecc13aca48299f973e&units=imperial&zip=34207,us\n",
      "Request #8 - getting information for 34207\n",
      "http://api.openweathermap.org/data/2.5/weather?appid=3866f5856bec34ecc13aca48299f973e&units=imperial&zip=5447,us\n",
      "One of the zip codes wasn't in the Open Weather Map database\n",
      "http://api.openweathermap.org/data/2.5/weather?appid=3866f5856bec34ecc13aca48299f973e&units=imperial&zip=8063,us\n",
      "One of the zip codes wasn't in the Open Weather Map database\n",
      "There are 8 values in the dataset\n",
      "The latitude information received is: [34.72, 42.38, 35.08, 41.01, 44.75, 34.66, 39.72, 27.42]\n",
      "The temperature information received is: [51.08, 41, 42.21, 34.57, 22.71, 58.98, 29.95, 84.42]\n",
      "The humidity information received is: [93, 60, 100, 100, 30, 31, 79, 51]\n",
      "The cloudiness information received is: [0.9, 0.9, 0.9, 0.9, 0.01, 0.75, 0.01, 0.75]\n"
     ]
    }
   ],
   "source": [
    "#pull zips from csv\n",
    "zipfromCSV = pd.read_csv('Resources/income_by_zipcode.csv')\n",
    "\n",
    "# use ALL zip codes\n",
    "zipSeries = zipfromCSV['ZIPCODE']\n",
    "\n",
    "# IF YOU WANT TO USE A SAMPLE INSTEAD OF THE FULL LIST, UNCOMMENT LINE 8\n",
    "zipSeries = zipSeries.sample(n=10)\n",
    "\n",
    "# set up lists to hold reponse info\n",
    "zipSeries.values.tolist()\n",
    "lat = []\n",
    "temp = [] #fahrenheit\n",
    "humidity = [] #as a percentage\n",
    "cloudiness = [] #as a percentage\n",
    "windSpeed = [] #mph\n",
    "country_code = ',us'\n",
    "request_counter = 1\n",
    "\n",
    "# Loop through the list of cities and perform a request for data on each\n",
    "for zip in zipSeries:\n",
    "    try:\n",
    "        print(query_url + str(zip) + country_code)\n",
    "        response = requests.get(query_url + str(zip) + country_code).json()\n",
    "        lat.append(response['coord']['lat'])\n",
    "        temp.append(response['main']['temp'])\n",
    "        humidity.append(response['main']['humidity'])\n",
    "        cloudiness.append(response['clouds']['all']/100)\n",
    "        print(f\"Request #{request_counter} - getting information for {zip}\")\n",
    "        request_counter = request_counter + 1\n",
    "\n",
    "    except:\n",
    "        print(\"One of the zip codes wasn't in the Open Weather Map database\")\n",
    "\n",
    "print(f\"There are \" + str(len(lat)) + \" values in the dataset\")\n",
    "print(f\"The latitude information received is: {lat}\")\n",
    "print(f\"The temperature information received is: {temp}\")\n",
    "print(f\"The humidity information received is: {humidity}\")\n",
    "print(f\"The cloudiness information received is: {cloudiness}\")"
   ]
  },
  {
   "cell_type": "code",
   "execution_count": 4,
   "metadata": {},
   "outputs": [
    {
     "data": {
      "text/html": [
       "<div>\n",
       "<style scoped>\n",
       "    .dataframe tbody tr th:only-of-type {\n",
       "        vertical-align: middle;\n",
       "    }\n",
       "\n",
       "    .dataframe tbody tr th {\n",
       "        vertical-align: top;\n",
       "    }\n",
       "\n",
       "    .dataframe thead th {\n",
       "        text-align: right;\n",
       "    }\n",
       "</style>\n",
       "<table border=\"1\" class=\"dataframe\">\n",
       "  <thead>\n",
       "    <tr style=\"text-align: right;\">\n",
       "      <th></th>\n",
       "      <th>zip</th>\n",
       "      <th>lat</th>\n",
       "      <th>temp</th>\n",
       "      <th>humidity</th>\n",
       "      <th>cloudiness</th>\n",
       "    </tr>\n",
       "  </thead>\n",
       "  <tbody>\n",
       "    <tr>\n",
       "      <th>0</th>\n",
       "      <td>8063</td>\n",
       "      <td>34.72</td>\n",
       "      <td>51.08</td>\n",
       "      <td>93</td>\n",
       "      <td>0.90</td>\n",
       "    </tr>\n",
       "    <tr>\n",
       "      <th>1</th>\n",
       "      <td>8063</td>\n",
       "      <td>42.38</td>\n",
       "      <td>41.00</td>\n",
       "      <td>60</td>\n",
       "      <td>0.90</td>\n",
       "    </tr>\n",
       "    <tr>\n",
       "      <th>2</th>\n",
       "      <td>8063</td>\n",
       "      <td>35.08</td>\n",
       "      <td>42.21</td>\n",
       "      <td>100</td>\n",
       "      <td>0.90</td>\n",
       "    </tr>\n",
       "    <tr>\n",
       "      <th>3</th>\n",
       "      <td>8063</td>\n",
       "      <td>41.01</td>\n",
       "      <td>34.57</td>\n",
       "      <td>100</td>\n",
       "      <td>0.90</td>\n",
       "    </tr>\n",
       "    <tr>\n",
       "      <th>4</th>\n",
       "      <td>8063</td>\n",
       "      <td>44.75</td>\n",
       "      <td>22.71</td>\n",
       "      <td>30</td>\n",
       "      <td>0.01</td>\n",
       "    </tr>\n",
       "  </tbody>\n",
       "</table>\n",
       "</div>"
      ],
      "text/plain": [
       "    zip    lat   temp  humidity  cloudiness\n",
       "0  8063  34.72  51.08        93        0.90\n",
       "1  8063  42.38  41.00        60        0.90\n",
       "2  8063  35.08  42.21       100        0.90\n",
       "3  8063  41.01  34.57       100        0.90\n",
       "4  8063  44.75  22.71        30        0.01"
      ]
     },
     "execution_count": 4,
     "metadata": {},
     "output_type": "execute_result"
    }
   ],
   "source": [
    "# create a data frame from cities, lat, and temp\n",
    "weather_dict = {\n",
    "    \"zip\": zip,\n",
    "    \"lat\": lat,\n",
    "    \"temp\": temp,\n",
    "    \"humidity\": humidity,\n",
    "    \"cloudiness\": cloudiness\n",
    "#     \"windSpeed\": windSpeed\n",
    "}\n",
    "\n",
    "weather_data = pd.DataFrame(weather_dict)\n",
    "weather_data.to_csv('weather_data_by_zip.csv')\n",
    "weather_data.head()\n"
   ]
  },
  {
   "cell_type": "code",
   "execution_count": null,
   "metadata": {},
   "outputs": [],
   "source": []
  },
  {
   "cell_type": "code",
   "execution_count": null,
   "metadata": {},
   "outputs": [],
   "source": []
  }
 ],
 "metadata": {
  "kernelspec": {
   "display_name": "Python 3",
   "language": "python",
   "name": "python3"
  },
  "language_info": {
   "codemirror_mode": {
    "name": "ipython",
    "version": 3
   },
   "file_extension": ".py",
   "mimetype": "text/x-python",
   "name": "python",
   "nbconvert_exporter": "python",
   "pygments_lexer": "ipython3",
   "version": "3.6.8"
  }
 },
 "nbformat": 4,
 "nbformat_minor": 2
}
