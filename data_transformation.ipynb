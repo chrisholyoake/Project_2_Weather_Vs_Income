{
 "cells": [
  {
   "cell_type": "code",
   "execution_count": 21,
   "metadata": {},
   "outputs": [],
   "source": [
    "import pandas as pd"
   ]
  },
  {
   "cell_type": "code",
   "execution_count": 22,
   "metadata": {},
   "outputs": [],
   "source": [
    "file_one=r\"C:\\Users\\Sean Lei\\Desktop\\Bootcamp\\Project2\\Project_2_Weather_Vs_Income\\Resources\\weather_data_by_zip.csv\"\n",
    "file_two=r\"C:\\Users\\Sean Lei\\Desktop\\Bootcamp\\Project2\\Project_2_Weather_Vs_Income\\Resources\\income_by_zipcode.csv\"\n",
    "pd_one=pd.read_csv(file_one)\n",
    "pd_two=pd.read_csv(file_two)"
   ]
  },
  {
   "cell_type": "code",
   "execution_count": 26,
   "metadata": {},
   "outputs": [],
   "source": [
    "pd_one=pd_one.rename(columns={'zip':'ZIPCODE'})\n",
    "pd_merge=pd.merge(pd_one,pd_two,on='ZIPCODE',how='inner')"
   ]
  },
  {
   "cell_type": "code",
   "execution_count": 31,
   "metadata": {},
   "outputs": [],
   "source": [
    "pd_merge.to_csv('merged_data.csv')"
   ]
  },
  {
   "cell_type": "code",
   "execution_count": 29,
   "metadata": {},
   "outputs": [
    {
     "data": {
      "text/plain": [
       "497"
      ]
     },
     "execution_count": 29,
     "metadata": {},
     "output_type": "execute_result"
    }
   ],
   "source": []
  }
 ],
 "metadata": {
  "kernelspec": {
   "display_name": "Python 3",
   "language": "python",
   "name": "python3"
  },
  "language_info": {
   "codemirror_mode": {
    "name": "ipython",
    "version": 3
   },
   "file_extension": ".py",
   "mimetype": "text/x-python",
   "name": "python",
   "nbconvert_exporter": "python",
   "pygments_lexer": "ipython3",
   "version": "3.7.0"
  }
 },
 "nbformat": 4,
 "nbformat_minor": 2
}
